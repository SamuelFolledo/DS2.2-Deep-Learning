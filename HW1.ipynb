{
 "cells": [
  {
   "cell_type": "code",
   "execution_count": null,
   "metadata": {},
   "outputs": [],
   "source": []
  },
  {
   "cell_type": "markdown",
   "metadata": {},
   "source": [
    "# Introduction to Keras\n",
    "In this notebook, we'll explore the Keras and use it to create a classifier to predict hand written digits."
   ]
  },
  {
   "cell_type": "markdown",
   "metadata": {},
   "source": [
    "## Introduction and Background\n",
    "### What is Keras? Why use it?\n",
    "Keras is a high-level deep learning API that serves to build, train, evaluate, and as a toolbox to neural networks. This means that Keras is used to do deep learning by being a wrapper to more complex and low-level deep learning frameworks like TensorFlow, CNTK, and Theano. The same functions for Keras wrapped CNTK are the same for Keras wrapped Theano and TensorFlow. TensorFlow (TF), the current most popular deep learning library and open sourced by Google, has recently integrated it's framework with Keras, so now Keras comes in with TF.\n",
    "\n",
    "Well, that's all find and dandy, but why should we use Keras? What's wrong with using TF? And why is TF integrating Keras? What does this all mean? TF, as well as other deep learning libraries, can be a bit more complicated to use (for the exception of PyTorch, more on that in a second). As you may have already experienced, deep learning can be quite complex, having a deep understanding (pun intended) of everything that's going on is sometimes needed, making TF (pre-Keras integration) unfriendly. With the latest version of Keras, TF is now super easy to use. Since TF is the most common library, there are tons of add ons and pipelines for mobile and websites already made. Therefore, Keras/TF is ideal for the more common programmer.\n",
    "\n",
    "Are there other options? The other up-and-coming library is PyTorch, created by Facebook. PyTorch is more common in research circles (whereas Keras/TF is more common in industry) however the interface at a high level tends to be the same. Arguably, transitioning from Keras to PyTorch should be simple.\n",
    "\n",
    "So am I going to be using Keras or TF in this class? Both! In our case, they're the same thing. Again, Keras has been integrated by default to TF, Keras is a wrapper to TF. If you're going to be doing high level work (which will be 95% of the time), you're going to be calling and using Keras. If you're going into the nitty gritty low-level work of Neural Networks (i.e. creating your own custom loss function, activation function, or metrics), you're going to be using TF. If someone asks what deep learning framework you used in this class, TensorFlow! But do give a shoutout to Keras if you use tf.keras often.\n",
    "\n",
    "So for the rest of this notebook, we'll be using Keras.\n",
    "\n",
    "### Training Deep Learning Networks\n",
    "Neural nets can take a while to train; you may have heard this prior in the mystery of deep learning. So can your computer train neural networks? It depends. If you're doing deep deep learning, using +30 layers or working with an enormous amount of data, training could take forever. One would need a GPU on their computer. More than often, we use some sort of cloud computing, why Colab would be ideal. For more intensive trainings (since Colab shuts down after +12 hours), usually a cloud provider like AWS (Amazon) or GCP (Google) would be used.\n",
    "\n",
    "Keras/TF works with and without a GPU, but by default is set to without a GPU. In this notebook, we won't be working with intense computation, so a GPU isn't necessarily. However that doesn't mean that training can't take a while. If you're working on Colab, changing the computation setting from CPU to GPU may speed things up. Your decision on what to do.\n",
    "\n",
    "If you have a GPU on your computer, there are guides towards setting up TF with a GPU with certain requirements. Slack me (Kevin Marroquin) for more details since this installation can get tricky."
   ]
  },
  {
   "cell_type": "markdown",
   "metadata": {},
   "source": [
    "## Running an example: MNIST\n",
    "### Installing Tensorflow and Loading Imports\n",
    "First, we're going to install Keras, in case you're using this on your local computer. However, this should work under Colab."
   ]
  },
  {
   "cell_type": "code",
   "execution_count": 1,
   "metadata": {},
   "outputs": [],
   "source": [
    "#See installation details here: https://www.tensorflow.org/install/\n",
    "# !pip install tensorflow"
   ]
  },
  {
   "cell_type": "code",
   "execution_count": 2,
   "metadata": {},
   "outputs": [],
   "source": [
    "#Importing Keras and other imports\n",
    "from tensorflow import keras\n",
    "import numpy as np\n",
    "import pandas as pd\n",
    "import matplotlib.pyplot as plt\n",
    "%matplotlib inline"
   ]
  },
  {
   "cell_type": "markdown",
   "metadata": {},
   "source": [
    "We're going to want reproducible results, so pre-defining random seeds is necessary."
   ]
  },
  {
   "cell_type": "code",
   "execution_count": 3,
   "metadata": {},
   "outputs": [],
   "source": [
    "from numpy.random import seed\n",
    "seed(42)\n",
    "from tensorflow.random import set_seed\n",
    "set_seed(42)"
   ]
  },
  {
   "cell_type": "markdown",
   "metadata": {},
   "source": [
    "Normally one wouldn't want to have a pre-defined random seed (in fact you would want the exact opposite), but in our case, since we want to be able to produce reprodicible results, it's needed."
   ]
  },
  {
   "cell_type": "markdown",
   "metadata": {},
   "source": [
    "## Loading, Analyzing, and Preprocessing Data\n",
    "For this example, we will be using the MNIST dataset. MNIST is a dataset of handwritten digits created to classify what type of digit, from zero to nine, is shown. MNIST is modified and, to some extent, normalized such that they're all the same size. Let's explore and see what kind of information MNIST have. If you've seen MNIST, this will probably be stuff you've seen before, so feel free to skip to the neural network part."
   ]
  },
  {
   "cell_type": "code",
   "execution_count": 4,
   "metadata": {},
   "outputs": [],
   "source": [
    "#Loading datasets\n",
    "mnist = keras.datasets.mnist\n",
    "(X_train_full, y_train_full), (X_test, y_test) = mnist.load_data()"
   ]
  },
  {
   "cell_type": "code",
   "execution_count": 5,
   "metadata": {},
   "outputs": [
    {
     "name": "stdout",
     "output_type": "stream",
     "text": [
      "X_train: (60000, 28, 28)\n",
      "y_train: (60000,)\n",
      "X_test: (10000, 28, 28)\n",
      "y_test: (10000,)\n"
     ]
    }
   ],
   "source": [
    "#Seeing shapes of data\n",
    "print(\"X_train:\", X_train_full.shape)\n",
    "print(\"y_train:\", y_train_full.shape)\n",
    "print(\"X_test:\", X_test.shape)\n",
    "print(\"y_test:\", y_test.shape)"
   ]
  },
  {
   "cell_type": "markdown",
   "metadata": {},
   "source": [
    "So we see that we have 60000 training datapoints and 10000 test. How does one of these datapoints look like?"
   ]
  },
  {
   "cell_type": "code",
   "execution_count": 6,
   "metadata": {},
   "outputs": [
    {
     "data": {
      "text/plain": [
       "array([[[0, 0, 0, ..., 0, 0, 0],\n",
       "        [0, 0, 0, ..., 0, 0, 0],\n",
       "        [0, 0, 0, ..., 0, 0, 0],\n",
       "        ...,\n",
       "        [0, 0, 0, ..., 0, 0, 0],\n",
       "        [0, 0, 0, ..., 0, 0, 0],\n",
       "        [0, 0, 0, ..., 0, 0, 0]],\n",
       "\n",
       "       [[0, 0, 0, ..., 0, 0, 0],\n",
       "        [0, 0, 0, ..., 0, 0, 0],\n",
       "        [0, 0, 0, ..., 0, 0, 0],\n",
       "        ...,\n",
       "        [0, 0, 0, ..., 0, 0, 0],\n",
       "        [0, 0, 0, ..., 0, 0, 0],\n",
       "        [0, 0, 0, ..., 0, 0, 0]],\n",
       "\n",
       "       [[0, 0, 0, ..., 0, 0, 0],\n",
       "        [0, 0, 0, ..., 0, 0, 0],\n",
       "        [0, 0, 0, ..., 0, 0, 0],\n",
       "        ...,\n",
       "        [0, 0, 0, ..., 0, 0, 0],\n",
       "        [0, 0, 0, ..., 0, 0, 0],\n",
       "        [0, 0, 0, ..., 0, 0, 0]],\n",
       "\n",
       "       ...,\n",
       "\n",
       "       [[0, 0, 0, ..., 0, 0, 0],\n",
       "        [0, 0, 0, ..., 0, 0, 0],\n",
       "        [0, 0, 0, ..., 0, 0, 0],\n",
       "        ...,\n",
       "        [0, 0, 0, ..., 0, 0, 0],\n",
       "        [0, 0, 0, ..., 0, 0, 0],\n",
       "        [0, 0, 0, ..., 0, 0, 0]],\n",
       "\n",
       "       [[0, 0, 0, ..., 0, 0, 0],\n",
       "        [0, 0, 0, ..., 0, 0, 0],\n",
       "        [0, 0, 0, ..., 0, 0, 0],\n",
       "        ...,\n",
       "        [0, 0, 0, ..., 0, 0, 0],\n",
       "        [0, 0, 0, ..., 0, 0, 0],\n",
       "        [0, 0, 0, ..., 0, 0, 0]],\n",
       "\n",
       "       [[0, 0, 0, ..., 0, 0, 0],\n",
       "        [0, 0, 0, ..., 0, 0, 0],\n",
       "        [0, 0, 0, ..., 0, 0, 0],\n",
       "        ...,\n",
       "        [0, 0, 0, ..., 0, 0, 0],\n",
       "        [0, 0, 0, ..., 0, 0, 0],\n",
       "        [0, 0, 0, ..., 0, 0, 0]]], dtype=uint8)"
      ]
     },
     "execution_count": 6,
     "metadata": {},
     "output_type": "execute_result"
    }
   ],
   "source": [
    "X_train_full"
   ]
  },
  {
   "cell_type": "code",
   "execution_count": 7,
   "metadata": {},
   "outputs": [
    {
     "data": {
      "text/plain": [
       "7"
      ]
     },
     "execution_count": 7,
     "metadata": {},
     "output_type": "execute_result"
    }
   ],
   "source": [
    "y_test[0]"
   ]
  },
  {
   "cell_type": "code",
   "execution_count": 8,
   "metadata": {},
   "outputs": [
    {
     "data": {
      "text/plain": [
       "(28, 28)"
      ]
     },
     "execution_count": 8,
     "metadata": {},
     "output_type": "execute_result"
    }
   ],
   "source": [
    "X_train_full[0].shape"
   ]
  },
  {
   "cell_type": "markdown",
   "metadata": {},
   "source": [
    "So an image is represented as a 28x28 image in pixels and it. It's a picture in black and white, representing pixel intensity from 0 to 255, where a 255 representing black and 0 representing white. Let's plot this to see the data."
   ]
  },
  {
   "cell_type": "code",
   "execution_count": 9,
   "metadata": {},
   "outputs": [
    {
     "data": {
      "text/plain": [
       "array([5, 0, 4, ..., 5, 6, 8], dtype=uint8)"
      ]
     },
     "execution_count": 9,
     "metadata": {},
     "output_type": "execute_result"
    }
   ],
   "source": [
    "#Looking at test data\n",
    "y_train_full"
   ]
  },
  {
   "cell_type": "code",
   "execution_count": 10,
   "metadata": {},
   "outputs": [
    {
     "name": "stdout",
     "output_type": "stream",
     "text": [
      "The expected value is: 4\n"
     ]
    },
    {
     "data": {
      "image/png": "[encoded data removed]",
      "text/plain": [
       "<Figure size 432x432 with 1 Axes>"
      ]
     },
     "metadata": {
      "needs_background": "light"
     },
     "output_type": "display_data"
    }
   ],
   "source": [
    "#Rerun to get different numbers\n",
    "def plotImage(image):\n",
    "    \"\"\"A 28x28 array that represents an image.\"\"\"\n",
    "    plt.figure(figsize=(6, 6))\n",
    "    plt.imshow(image, cmap=\"gray\")\n",
    "    plt.axis(False)\n",
    "    plt.show()\n",
    "sample_image = np.random.randint(0, len(X_train_full))\n",
    "print(\"The expected value is:\", y_train_full[sample_image])\n",
    "plotImage(X_train_full[sample_image])"
   ]
  },
  {
   "cell_type": "markdown",
   "metadata": {},
   "source": [
    "Before using this data, we must preprocess it to our likings. Something that should be done before plugging our data into our neural net is to normalize and shift it for better results (see more details here). If you want some quick intuition about our activation functions, or a sigmoid function, most of it's \"function\" (the part that's interesting and not a flat line) is near x = 0 than at x = 255, X_train_full's max point. Normalizing and shifting our data brings it to the action of the function (seriously, no pun intended on this one) where the model may perform better."
   ]
  },
  {
   "cell_type": "code",
   "execution_count": 11,
   "metadata": {},
   "outputs": [
    {
     "data": {
      "image/png": "[encoded data removed]",
      "text/plain": [
       "<Figure size 432x288 with 1 Axes>"
      ]
     },
     "metadata": {
      "needs_background": "light"
     },
     "output_type": "display_data"
    }
   ],
   "source": [
    "#Example of Sigmoid function\n",
    "def sigmoid(x):\n",
    "    return 1/(np.exp(-x) + 1)\n",
    "\n",
    "plt.plot(np.arange(-15, 15), sigmoid(np.arange(-15, 15)))\n",
    "plt.title(\"Sigmoid Function\")\n",
    "plt.grid()\n",
    "plt.show()"
   ]
  },
  {
   "cell_type": "markdown",
   "metadata": {},
   "source": [
    "Let's convert this data to 0 and 1, where 1 is the max pixel intensity (255) and zero is still zero. Anything in between is the scaled value of the original data. In the process, we will create a validation pair (of X and y) to test our model after training and testing."
   ]
  },
  {
   "cell_type": "code",
   "execution_count": 12,
   "metadata": {},
   "outputs": [],
   "source": [
    "X_valid, X_train = X_train_full[:5000] / 255, X_train_full[5000:] / 255\n",
    "y_valid, y_train = y_train_full[:5000], y_train_full[5000:]\n",
    "X_test = X_test / 255\n",
    "#No need to do y_test since it's not being fed into the data.\n",
    "#Also, data is already shuffled, so no need to do so here"
   ]
  },
  {
   "cell_type": "markdown",
   "metadata": {},
   "source": [
    "Lastly, inputting a 2D datapoint into a neural network is a bit of work to implement and architect. To avoid harder work, we will transform our data into a 1D array. We will do this in the next section."
   ]
  },
  {
   "cell_type": "markdown",
   "metadata": {},
   "source": [
    "## Creating A Simple Neural Network\n",
    "Let's build a basic 2-layered neural network."
   ]
  },
  {
   "cell_type": "code",
   "execution_count": 13,
   "metadata": {},
   "outputs": [],
   "source": [
    "#Including random seeds here again in case for reproducibility\n",
    "from numpy.random import seed\n",
    "seed(42)\n",
    "from tensorflow.random import set_seed\n",
    "set_seed(42)\n",
    "\n",
    "model = keras.models.Sequential()\n",
    "model.add(keras.layers.Flatten(input_shape=[28, 28]))\n",
    "model.add(keras.layers.Dense(300, activation=\"sigmoid\"))\n",
    "model.add(keras.layers.Dense(100, activation=\"sigmoid\"))\n",
    "model.add(keras.layers.Dense(10, activation=\"sigmoid\"))\n",
    "\n",
    "#Another similar way of writing the above code is:\n",
    "# model = keras.model.Sequential([\n",
    "#     keras.layers.Flatten(input_shape=[28, 28]),\n",
    "#     keras.layers.Dense(300, activation=\"sigmoid\"),\n",
    "#     keras.layers.Dense(100, activation=\"sigmoid\"),\n",
    "#     keras.layers.Dense(10, activation=\"softmax\")\n",
    "# ])\n",
    "#Your choice in preference."
   ]
  },
  {
   "cell_type": "markdown",
   "metadata": {},
   "source": [
    "Going through the above code line by line:\n",
    "- The first line creates the simplest model composed of a single stack of layers connected sequentially. Needed in most cases to initialize the model.\n",
    "- The next layer flattens the data from 2D 28x28 to 1D 784. This layer is known as the input layer.\n",
    "- The next two (Dense) layers are hidden layers with 300 and 100 neurons respectively. They're both using sigmoid for their activation functions and contain a weight matrix that changes during training.\n",
    "- The last dense layer is the output layer. Choosing 10 neurons is a reflection of our output. We use a sigmoid function in order to calculate the probability.\n",
    "\n",
    "This is, again, a 2-layered neural network. Let's print out the summary of the model."
   ]
  },
  {
   "cell_type": "code",
   "execution_count": 14,
   "metadata": {},
   "outputs": [
    {
     "data": {
      "text/plain": [
       "array([[ 0.02448617, -0.00877795, -0.02189048, ..., -0.02766046,\n",
       "         0.03859074, -0.06889391],\n",
       "       [ 0.00476504, -0.03105379, -0.0586676 , ...,  0.00602964,\n",
       "        -0.02763776, -0.04165364],\n",
       "       [-0.06189284, -0.06901957,  0.07102345, ..., -0.04238207,\n",
       "         0.07121518, -0.07331658],\n",
       "       ...,\n",
       "       [-0.03048757,  0.02155137, -0.05400612, ..., -0.00113463,\n",
       "         0.00228987,  0.05581069],\n",
       "       [ 0.07061854, -0.06960931,  0.07038955, ..., -0.00384101,\n",
       "         0.00034875,  0.02878492],\n",
       "       [-0.06022581,  0.01577859, -0.02585464, ..., -0.00527829,\n",
       "         0.00272203, -0.06793761]], dtype=float32)"
      ]
     },
     "execution_count": 14,
     "metadata": {},
     "output_type": "execute_result"
    }
   ],
   "source": [
    "#Inputting the first hidden layer, should be in the shape of 0-1\n",
    "weight = model.layers[1].get_weights()\n",
    "weight[0]"
   ]
  },
  {
   "cell_type": "markdown",
   "metadata": {},
   "source": [
    "We mentioned weights, that each layer contains it's own weights. As a reminder, a weight is needed to put emphasis on a feature in order to help a model model.\n",
    "\n",
    "We'll now be compiling the model"
   ]
  },
  {
   "cell_type": "code",
   "execution_count": 15,
   "metadata": {},
   "outputs": [],
   "source": [
    "model.compile(loss=\"sparse_categorical_crossentropy\", #Loss function\n",
    "              optimizer=\"sgd\", #Stochastic Gradient Descent\n",
    "             metrics=[\"accuracy\"])"
   ]
  },
  {
   "cell_type": "markdown",
   "metadata": {},
   "source": [
    "Let's train and evaluate the model."
   ]
  },
  {
   "cell_type": "code",
   "execution_count": 16,
   "metadata": {},
   "outputs": [
    {
     "data": {
      "text/plain": [
       "(5000,)"
      ]
     },
     "execution_count": 16,
     "metadata": {},
     "output_type": "execute_result"
    }
   ],
   "source": [
    "y_valid.shape"
   ]
  },
  {
   "cell_type": "code",
   "execution_count": 17,
   "metadata": {},
   "outputs": [
    {
     "data": {
      "text/plain": [
       "(5000, 28, 28)"
      ]
     },
     "execution_count": 17,
     "metadata": {},
     "output_type": "execute_result"
    }
   ],
   "source": [
    "X_valid.shape"
   ]
  },
  {
   "cell_type": "code",
   "execution_count": 18,
   "metadata": {},
   "outputs": [
    {
     "data": {
      "text/plain": [
       "(55000, 28, 28)"
      ]
     },
     "execution_count": 18,
     "metadata": {},
     "output_type": "execute_result"
    }
   ],
   "source": [
    "X_train.shape"
   ]
  },
  {
   "cell_type": "code",
   "execution_count": 19,
   "metadata": {},
   "outputs": [
    {
     "data": {
      "text/plain": [
       "(55000,)"
      ]
     },
     "execution_count": 19,
     "metadata": {},
     "output_type": "execute_result"
    }
   ],
   "source": [
    "y_train.shape"
   ]
  },
  {
   "cell_type": "code",
   "execution_count": 20,
   "metadata": {},
   "outputs": [
    {
     "name": "stdout",
     "output_type": "stream",
     "text": [
      "Epoch 1/30\n",
      "1719/1719 [==============================] - 3s 2ms/step - loss: 2.2765 - accuracy: 0.1968 - val_loss: 2.2219 - val_accuracy: 0.4718\n",
      "Epoch 2/30\n",
      "1719/1719 [==============================] - 3s 2ms/step - loss: 2.0593 - accuracy: 0.5398 - val_loss: 1.7906 - val_accuracy: 0.6252\n",
      "Epoch 3/30\n",
      "1719/1719 [==============================] - 3s 1ms/step - loss: 1.4432 - accuracy: 0.6965 - val_loss: 1.1240 - val_accuracy: 0.7576\n",
      "Epoch 4/30\n",
      "1719/1719 [==============================] - 2s 1ms/step - loss: 0.9577 - accuracy: 0.7808 - val_loss: 0.7988 - val_accuracy: 0.8118\n",
      "Epoch 5/30\n",
      "1719/1719 [==============================] - 3s 2ms/step - loss: 0.7237 - accuracy: 0.8270 - val_loss: 0.6299 - val_accuracy: 0.8492\n",
      "Epoch 6/30\n",
      "1719/1719 [==============================] - 3s 2ms/step - loss: 0.5926 - accuracy: 0.8537 - val_loss: 0.5302 - val_accuracy: 0.8668\n",
      "Epoch 7/30\n",
      "1719/1719 [==============================] - 3s 2ms/step - loss: 0.5140 - accuracy: 0.8691 - val_loss: 0.4654 - val_accuracy: 0.8786\n",
      "Epoch 8/30\n",
      "1719/1719 [==============================] - 3s 2ms/step - loss: 0.4634 - accuracy: 0.8784 - val_loss: 0.4251 - val_accuracy: 0.8864\n",
      "Epoch 9/30\n",
      "1719/1719 [==============================] - 3s 2ms/step - loss: 0.4285 - accuracy: 0.8853 - val_loss: 0.3959 - val_accuracy: 0.8954\n",
      "Epoch 10/30\n",
      "1719/1719 [==============================] - 3s 2ms/step - loss: 0.4035 - accuracy: 0.8906 - val_loss: 0.3737 - val_accuracy: 0.8994\n",
      "Epoch 11/30\n",
      "1719/1719 [==============================] - 3s 2ms/step - loss: 0.3845 - accuracy: 0.8932 - val_loss: 0.3555 - val_accuracy: 0.9014oss: 0.3848 - accuracy: \n",
      "Epoch 12/30\n",
      "1719/1719 [==============================] - 3s 2ms/step - loss: 0.3695 - accuracy: 0.8960 - val_loss: 0.3423 - val_accuracy: 0.9052\n",
      "Epoch 13/30\n",
      "1719/1719 [==============================] - 3s 2ms/step - loss: 0.3573 - accuracy: 0.8987 - val_loss: 0.3321 - val_accuracy: 0.9076\n",
      "Epoch 14/30\n",
      "1719/1719 [==============================] - 3s 2ms/step - loss: 0.3473 - accuracy: 0.9012 - val_loss: 0.3232 - val_accuracy: 0.9084\n",
      "Epoch 15/30\n",
      "1719/1719 [==============================] - 3s 2ms/step - loss: 0.3385 - accuracy: 0.9030 - val_loss: 0.3148 - val_accuracy: 0.9114\n",
      "Epoch 16/30\n",
      "1719/1719 [==============================] - 3s 2ms/step - loss: 0.3307 - accuracy: 0.9053 - val_loss: 0.3071 - val_accuracy: 0.9130\n",
      "Epoch 17/30\n",
      "1719/1719 [==============================] - 3s 2ms/step - loss: 0.3242 - accuracy: 0.9067 - val_loss: 0.3005 - val_accuracy: 0.9150\n",
      "Epoch 18/30\n",
      "1719/1719 [==============================] - 3s 2ms/step - loss: 0.3182 - accuracy: 0.9080 - val_loss: 0.2954 - val_accuracy: 0.9154\n",
      "Epoch 19/30\n",
      "1719/1719 [==============================] - 3s 2ms/step - loss: 0.3127 - accuracy: 0.9100 - val_loss: 0.2902 - val_accuracy: 0.9178\n",
      "Epoch 20/30\n",
      "1719/1719 [==============================] - 3s 2ms/step - loss: 0.3073 - accuracy: 0.9111 - val_loss: 0.2877 - val_accuracy: 0.9182\n",
      "Epoch 21/30\n",
      "1719/1719 [==============================] - 3s 2ms/step - loss: 0.3027 - accuracy: 0.9125 - val_loss: 0.2810 - val_accuracy: 0.9192\n",
      "Epoch 22/30\n",
      "1719/1719 [==============================] - 3s 2ms/step - loss: 0.2983 - accuracy: 0.9140 - val_loss: 0.2773 - val_accuracy: 0.9232\n",
      "Epoch 23/30\n",
      "1719/1719 [==============================] - 3s 2ms/step - loss: 0.2941 - accuracy: 0.9148 - val_loss: 0.2732 - val_accuracy: 0.9214\n",
      "Epoch 24/30\n",
      "1719/1719 [==============================] - 3s 2ms/step - loss: 0.2898 - accuracy: 0.9162 - val_loss: 0.2700 - val_accuracy: 0.9238\n",
      "Epoch 25/30\n",
      "1719/1719 [==============================] - 3s 2ms/step - loss: 0.2861 - accuracy: 0.9164 - val_loss: 0.2660 - val_accuracy: 0.9236\n",
      "Epoch 26/30\n",
      "1719/1719 [==============================] - 3s 2ms/step - loss: 0.2825 - accuracy: 0.9177 - val_loss: 0.2639 - val_accuracy: 0.9262\n",
      "Epoch 27/30\n",
      "1719/1719 [==============================] - 3s 2ms/step - loss: 0.2789 - accuracy: 0.9183 - val_loss: 0.2601 - val_accuracy: 0.9264\n",
      "Epoch 28/30\n",
      "1719/1719 [==============================] - 3s 2ms/step - loss: 0.2755 - accuracy: 0.9196 - val_loss: 0.2574 - val_accuracy: 0.9248\n",
      "Epoch 29/30\n",
      "1719/1719 [==============================] - 3s 2ms/step - loss: 0.2722 - accuracy: 0.9207 - val_loss: 0.2534 - val_accuracy: 0.9272\n",
      "Epoch 30/30\n",
      "1719/1719 [==============================] - 3s 2ms/step - loss: 0.2689 - accuracy: 0.9215 - val_loss: 0.2519 - val_accuracy: 0.9280\n"
     ]
    }
   ],
   "source": [
    "#May take a while\n",
    "history = model.fit(X_train, y_train, epochs=30, \n",
    "                  validation_data=(X_valid, y_valid))"
   ]
  },
  {
   "cell_type": "markdown",
   "metadata": {},
   "source": [
    "Plotting the accuracy and loss of our training and validation data."
   ]
  },
  {
   "cell_type": "code",
   "execution_count": 21,
   "metadata": {},
   "outputs": [
    {
     "data": {
      "image/png": "[encoded data removed]",
      "text/plain": [
       "<Figure size 1440x504 with 1 Axes>"
      ]
     },
     "metadata": {
      "needs_background": "light"
     },
     "output_type": "display_data"
    }
   ],
   "source": [
    "#Plotting Accuracy\n",
    "plt.figure(figsize = (20, 7))\n",
    "plt.plot(np.arange(1, 31), history.history[\"accuracy\"], label = \"Train Data\")\n",
    "plt.plot(np.arange(1, 31), history.history[\"val_accuracy\"], label = \"Test Data\")\n",
    "plt.legend(fontsize = 15)\n",
    "plt.xlabel(\"Epoch\", size = 15)\n",
    "plt.ylabel(\"Accuracy\", size = 15)\n",
    "plt.title(\"Accuracy of MNIST over Epochs\", size = 20)\n",
    "plt.grid()\n",
    "plt.show()"
   ]
  },
  {
   "cell_type": "code",
   "execution_count": 22,
   "metadata": {},
   "outputs": [
    {
     "data": {
      "image/png": "[encoded data removed]",
      "text/plain": [
       "<Figure size 1440x504 with 1 Axes>"
      ]
     },
     "metadata": {
      "needs_background": "light"
     },
     "output_type": "display_data"
    }
   ],
   "source": [
    "#Plotting Loss\n",
    "plt.figure(figsize = (20, 7))\n",
    "plt.plot(np.arange(1, 31), history.history[\"loss\"], label = \"Train Data\")\n",
    "plt.plot(np.arange(1, 31), history.history[\"val_loss\"], label = \"Test Data\")\n",
    "plt.legend(fontsize = 15)\n",
    "plt.xlabel(\"Epoch\", size = 15)\n",
    "plt.ylabel(\"Loss\", size = 15)\n",
    "plt.title(\"Loss of MNIST over Epochs\", size = 20)\n",
    "plt.grid()\n",
    "plt.show()"
   ]
  },
  {
   "cell_type": "markdown",
   "metadata": {},
   "source": [
    "Since our training and validation data seems to be closely tied, we can conclude there's hardly any overfitting. Creating a confusion matrix"
   ]
  },
  {
   "cell_type": "code",
   "execution_count": 23,
   "metadata": {},
   "outputs": [
    {
     "data": {
      "text/plain": [
       "array([[ 962,    0,    3,    1,    0,    5,    5,    2,    2,    0],\n",
       "       [   0, 1109,    2,    2,    0,    2,    4,    2,   14,    0],\n",
       "       [  13,    5,  931,    9,   12,    3,   13,   13,   29,    4],\n",
       "       [   2,    1,   24,  916,    0,   30,    1,   17,   16,    3],\n",
       "       [   1,    2,    7,    0,  921,    0,   12,    2,    6,   31],\n",
       "       [   9,    2,    3,   43,    7,  776,   13,    8,   23,    8],\n",
       "       [  14,    3,    5,    1,   10,   17,  904,    2,    2,    0],\n",
       "       [   4,    9,   23,    6,    6,    0,    0,  962,    1,   17],\n",
       "       [   7,    7,    9,   23,   10,   32,   11,   12,  859,    4],\n",
       "       [  13,    8,    1,   11,   33,    6,    0,   27,    6,  904]])"
      ]
     },
     "execution_count": 23,
     "metadata": {},
     "output_type": "execute_result"
    }
   ],
   "source": [
    "#Determining error from confusion matrix\n",
    "from sklearn.metrics import confusion_matrix\n",
    "\n",
    "confusion_matrix(y_test, np.argmax(model.predict(X_test), axis = -1))"
   ]
  },
  {
   "cell_type": "markdown",
   "metadata": {},
   "source": [
    "A nicer plot"
   ]
  },
  {
   "cell_type": "code",
   "execution_count": 24,
   "metadata": {},
   "outputs": [
    {
     "data": {
      "image/png": "[encoded data removed]",
      "text/plain": [
       "<Figure size 720x720 with 2 Axes>"
      ]
     },
     "metadata": {
      "needs_background": "light"
     },
     "output_type": "display_data"
    }
   ],
   "source": [
    "#Creating a plotting function for a confusion matrix\n",
    "import itertools\n",
    "\n",
    "cm = confusion_matrix(y_test, np.argmax(model.predict(X_test), axis = -1))\n",
    "plt.figure(figsize=(10, 10))\n",
    "plt.imshow(cm, plt.cm.Blues)\n",
    "plt.colorbar()\n",
    "plt.title(\"Confusion Matrix For Model vs True Labels\", size = 20)\n",
    "fmt = 'd'\n",
    "thresh = cm.max() / 2.\n",
    "for i, j in itertools.product(range(cm.shape[0]), range(cm.shape[1])):\n",
    "    plt.text(j, i, format(cm[i, j], fmt),\n",
    "              horizontalalignment=\"center\",\n",
    "              color=\"white\" if cm[i, j] > thresh else \"black\")\n",
    "plt.xlabel(\"Predicted Labels\", size = 15)\n",
    "plt.xticks(np.arange(0, 10))\n",
    "plt.ylabel(\"True Labels\", size = 15)\n",
    "plt.yticks(np.arange(0, 10))\n",
    "plt.show()"
   ]
  },
  {
   "cell_type": "markdown",
   "metadata": {},
   "source": [
    "A confusion matrix is useful in looking at what values are predicting expected values. For example, the graph above shows that our model predicted nine +30 times when in reality it was four. This checks out, as fours and nines can occasionally look alike.\n",
    "\n",
    "A note on reading a confusion matrix: The heavy blue diagonal represents correctly predicted labels. Everything outside the diagonal represents predicted labels that were wrong to guess a certain true label. Match the x-axis and y-axis to determine what values were guessed correctly/incorrectly. What's the highest incorrectly predicted number? Does it make sense why a model would confuse it (i.e. can the incorrectly predicted value and true label be similarly drawn)? Would a human confuse this incorrectly predicted number?"
   ]
  },
  {
   "cell_type": "markdown",
   "metadata": {},
   "source": [
    "## Question 1: Your Turn, Get Better Results Than Me\n",
    "### Hyperparameters:\n",
    "- Number of layers\n",
    "- Number of neurons in layers\n",
    "- Activation functions\n",
    "- Learning rate\n",
    "- Loss\n",
    "- Optimizer\n",
    "- Metrics\n",
    "- Epochs\n",
    "\n",
    "Hyperparameter testing shows how expensive testing every single option can be. I recommend changing the learning rate, number of layers, number of neurons, and activation function, but feel free to change or add whatever you'd like."
   ]
  },
  {
   "cell_type": "markdown",
   "metadata": {},
   "source": [
    "#### Cheatsheet on how to do the above:\n",
    "- **Adding a layer**: `model.add(keras.layers.Dense())`\n",
    "- **Number of neurons in layers**: Input/change number inside `keras.layers.Dense()`\n",
    "- **Changing Activation functions**: In a dense layer, write `Dense(activation=\"InsertFunctionNameHere\")`. Examples of other functions can be found [here](https://keras.io/api/layers/activations/)\n",
    "- **Changing learning rate**: Involves importing `backend`. Instructions/a quick example can be found [here](https://stackoverflow.com/a/62113860).\n",
    "- **Changing Loss functions**: Same as changing Activation functions, but the loss is defined/changed when you call `model.compile(loss=\"InsertFunctionNameHere\")`. Be mindful to see what losses are appropriate for what models (you don't want a continuous loss on a binary model; continous and discrete don't mix!). This shouldn't be tweaked too much, but I want to give you all full control. List of loss functions [here](https://keras.io/api/losses/).\n",
    "- **Changing Optimizer**: This can speed up or give you better results:  `model.compile(optimizer=\"InsertOptimizerNameHere\")`. List of Optimizers are [here](https://keras.io/api/optimizers/). Try Adam or RMSprop since they seem to be popular.\n",
    "- **Changing or Adding Metrics**: Similar to changing optimizer and loss: `model.compile(metrics=[\"InsertListOfMetricsHere\"])`. You can run multiple metrics at the same time and it shouldn't decrease your performance. The same advise goes here as to changing loss functions: be aware what metrics are telling you what before you go on and change them. Here's a [list](https://keras.io/api/metrics/) of metrics.\n",
    "- **Changing Number of Epochs**: Changed when running `model.fit(epochs=\"InsertNumericValueHere\")`. Strategies of running a certain number of epochs can be found [here](https://www.codespeedy.com/how-to-choose-number-of-epochs-to-train-a-neural-network-in-keras/).\n",
    "\n",
    "Another way to improve results is to do image processing on the data. Since this notebook is to practice Keras I won't give any hints. But I do want to point it out since in real life, modifying data is universal to improving and speeding any model. You're more likely to do this first as a strategy than tweak for model parameters. For now, however, we do this for practice."
   ]
  },
  {
   "cell_type": "code",
   "execution_count": 25,
   "metadata": {},
   "outputs": [],
   "source": [
    "#TODO: Create model, compile, and train (and I highly recommend that you\n",
    "#plot/make a confusion matrix, as it's super helpful in gaining context to \n",
    "#how your model is acting and where is error largest.)\n",
    "###YOUR CODE BELOW###"
   ]
  },
  {
   "cell_type": "code",
   "execution_count": 26,
   "metadata": {},
   "outputs": [
    {
     "name": "stdout",
     "output_type": "stream",
     "text": [
      "Epoch 1/100\n",
      "1719/1719 [==============================] - 5s 3ms/step - loss: 8.2046 - accuracy: 0.0998 - val_loss: 8.8813 - val_accuracy: 0.0958\n",
      "Epoch 2/100\n",
      "1719/1719 [==============================] - 5s 3ms/step - loss: 8.6996 - accuracy: 0.0990 - val_loss: 8.8813 - val_accuracy: 0.0958\n",
      "Epoch 3/100\n",
      "1719/1719 [==============================] - 5s 3ms/step - loss: 8.6996 - accuracy: 0.0990 - val_loss: 8.8813 - val_accuracy: 0.0958\n",
      "Epoch 4/100\n",
      "1719/1719 [==============================] - 5s 3ms/step - loss: 8.6996 - accuracy: 0.0990 - val_loss: 8.8813 - val_accuracy: 0.0958\n",
      "Epoch 5/100\n",
      "1719/1719 [==============================] - 5s 3ms/step - loss: 8.6996 - accuracy: 0.0990 - val_loss: 8.8813 - val_accuracy: 0.0958\n",
      "Epoch 6/100\n",
      "1719/1719 [==============================] - 6s 4ms/step - loss: 8.6996 - accuracy: 0.0990 - val_loss: 8.8813 - val_accuracy: 0.0958\n",
      "Epoch 7/100\n",
      "1719/1719 [==============================] - 6s 3ms/step - loss: 8.6996 - accuracy: 0.0990 - val_loss: 8.8813 - val_accuracy: 0.0958\n",
      "Epoch 8/100\n",
      "1719/1719 [==============================] - 7s 4ms/step - loss: 8.6996 - accuracy: 0.0990 - val_loss: 8.8813 - val_accuracy: 0.0958\n",
      "Epoch 9/100\n",
      "1719/1719 [==============================] - 6s 4ms/step - loss: 8.6996 - accuracy: 0.0990 - val_loss: 8.8813 - val_accuracy: 0.0958\n",
      "Epoch 10/100\n",
      "1719/1719 [==============================] - 6s 4ms/step - loss: 8.6996 - accuracy: 0.0990 - val_loss: 8.8813 - val_accuracy: 0.0958\n",
      "Epoch 11/100\n",
      "1719/1719 [==============================] - 7s 4ms/step - loss: 8.6996 - accuracy: 0.0990 - val_loss: 8.8813 - val_accuracy: 0.0958\n",
      "Epoch 12/100\n",
      "1719/1719 [==============================] - 6s 4ms/step - loss: 8.6996 - accuracy: 0.0990 - val_loss: 8.8813 - val_accuracy: 0.0958\n",
      "Epoch 13/100\n",
      "1719/1719 [==============================] - 6s 4ms/step - loss: 8.6996 - accuracy: 0.0990 - val_loss: 8.8813 - val_accuracy: 0.0958\n",
      "Epoch 14/100\n",
      "1719/1719 [==============================] - 6s 4ms/step - loss: 8.6996 - accuracy: 0.0990 - val_loss: 8.8813 - val_accuracy: 0.0958\n",
      "Epoch 15/100\n",
      "1719/1719 [==============================] - 6s 4ms/step - loss: 8.6996 - accuracy: 0.0990 - val_loss: 8.8813 - val_accuracy: 0.0958\n",
      "Epoch 16/100\n",
      "1719/1719 [==============================] - 6s 4ms/step - loss: 8.6996 - accuracy: 0.0990 - val_loss: 8.8813 - val_accuracy: 0.0958\n",
      "Epoch 17/100\n",
      "1719/1719 [==============================] - 6s 4ms/step - loss: 8.6996 - accuracy: 0.0990 - val_loss: 8.8813 - val_accuracy: 0.0958\n",
      "Epoch 18/100\n",
      "1719/1719 [==============================] - 6s 4ms/step - loss: 8.6996 - accuracy: 0.0990 - val_loss: 8.8813 - val_accuracy: 0.0958\n",
      "Epoch 19/100\n",
      "1719/1719 [==============================] - 7s 4ms/step - loss: 8.6996 - accuracy: 0.0990 - val_loss: 8.8813 - val_accuracy: 0.0958\n",
      "Epoch 20/100\n",
      "1719/1719 [==============================] - 6s 4ms/step - loss: 8.6996 - accuracy: 0.0990 - val_loss: 8.8813 - val_accuracy: 0.0958\n",
      "Epoch 21/100\n",
      "1719/1719 [==============================] - 6s 4ms/step - loss: 8.6996 - accuracy: 0.0990 - val_loss: 8.8813 - val_accuracy: 0.0958\n",
      "Epoch 22/100\n",
      "1719/1719 [==============================] - 6s 4ms/step - loss: 8.6996 - accuracy: 0.0990 - val_loss: 8.8813 - val_accuracy: 0.0958\n",
      "Epoch 23/100\n",
      "1719/1719 [==============================] - 7s 4ms/step - loss: 8.6996 - accuracy: 0.0990 - val_loss: 8.8813 - val_accuracy: 0.0958\n",
      "Epoch 24/100\n",
      "1719/1719 [==============================] - 6s 4ms/step - loss: 8.6996 - accuracy: 0.0990 - val_loss: 8.8813 - val_accuracy: 0.0958\n",
      "Epoch 25/100\n",
      "1719/1719 [==============================] - 6s 3ms/step - loss: 8.6996 - accuracy: 0.0990 - val_loss: 8.8813 - val_accuracy: 0.0958\n",
      "Epoch 26/100\n",
      "1719/1719 [==============================] - 6s 3ms/step - loss: 8.6996 - accuracy: 0.0990 - val_loss: 8.8813 - val_accuracy: 0.0958\n",
      "Epoch 27/100\n",
      "1719/1719 [==============================] - 6s 3ms/step - loss: 8.6996 - accuracy: 0.0990 - val_loss: 8.8813 - val_accuracy: 0.0958\n",
      "Epoch 28/100\n",
      "1719/1719 [==============================] - 6s 3ms/step - loss: 8.6996 - accuracy: 0.0990 - val_loss: 8.8813 - val_accuracy: 0.0958\n",
      "Epoch 29/100\n",
      "1719/1719 [==============================] - 6s 3ms/step - loss: 8.6996 - accuracy: 0.0990 - val_loss: 8.8813 - val_accuracy: 0.0958\n",
      "Epoch 30/100\n",
      "1719/1719 [==============================] - 6s 3ms/step - loss: 8.6996 - accuracy: 0.0990 - val_loss: 8.8813 - val_accuracy: 0.0958\n",
      "Epoch 31/100\n",
      "1719/1719 [==============================] - 6s 3ms/step - loss: 8.6996 - accuracy: 0.0990 - val_loss: 8.8813 - val_accuracy: 0.0958\n",
      "Epoch 32/100\n",
      "1719/1719 [==============================] - 6s 3ms/step - loss: 8.6996 - accuracy: 0.0990 - val_loss: 8.8813 - val_accuracy: 0.0958\n",
      "Epoch 33/100\n",
      "1719/1719 [==============================] - 6s 4ms/step - loss: 8.6996 - accuracy: 0.0990 - val_loss: 8.8813 - val_accuracy: 0.0958\n",
      "Epoch 34/100\n",
      "1719/1719 [==============================] - 6s 4ms/step - loss: 8.6996 - accuracy: 0.0990 - val_loss: 8.8813 - val_accuracy: 0.0958\n",
      "Epoch 35/100\n",
      "1719/1719 [==============================] - 8s 4ms/step - loss: 8.6996 - accuracy: 0.0990 - val_loss: 8.8813 - val_accuracy: 0.0958\n",
      "Epoch 36/100\n",
      "1719/1719 [==============================] - 8s 5ms/step - loss: 8.6996 - accuracy: 0.0990 - val_loss: 8.8813 - val_accuracy: 0.0958\n",
      "Epoch 37/100\n",
      "1719/1719 [==============================] - 10s 6ms/step - loss: 8.6996 - accuracy: 0.0990 - val_loss: 8.8813 - val_accuracy: 0.0958\n",
      "Epoch 38/100\n",
      "1719/1719 [==============================] - 11s 6ms/step - loss: 8.6996 - accuracy: 0.0990 - val_loss: 8.8813 - val_accuracy: 0.0958\n",
      "Epoch 39/100\n",
      "1719/1719 [==============================] - 12s 7ms/step - loss: 8.6996 - accuracy: 0.0990 - val_loss: 8.8813 - val_accuracy: 0.0958\n",
      "Epoch 40/100\n",
      "1719/1719 [==============================] - 15s 9ms/step - loss: 8.6996 - accuracy: 0.0990 - val_loss: 8.8813 - val_accuracy: 0.0958\n",
      "Epoch 41/100\n",
      "1719/1719 [==============================] - 15s 9ms/step - loss: 8.6996 - accuracy: 0.0990 - val_loss: 8.8813 - val_accuracy: 0.0958\n",
      "Epoch 42/100\n",
      "1719/1719 [==============================] - 15s 9ms/step - loss: 8.6996 - accuracy: 0.0990 - val_loss: 8.8813 - val_accuracy: 0.0958\n",
      "Epoch 43/100\n",
      "1719/1719 [==============================] - 13s 8ms/step - loss: 8.6996 - accuracy: 0.0990 - val_loss: 8.8813 - val_accuracy: 0.0958\n",
      "Epoch 44/100\n",
      "1719/1719 [==============================] - 11s 6ms/step - loss: 8.6996 - accuracy: 0.0990 - val_loss: 8.8813 - val_accuracy: 0.0958\n",
      "Epoch 45/100\n",
      "1719/1719 [==============================] - 10s 6ms/step - loss: 8.6996 - accuracy: 0.0990 - val_loss: 8.8813 - val_accuracy: 0.0958\n",
      "Epoch 46/100\n",
      "1719/1719 [==============================] - 9s 5ms/step - loss: 8.6996 - accuracy: 0.0990 - val_loss: 8.8813 - val_accuracy: 0.0958\n",
      "Epoch 47/100\n",
      "1719/1719 [==============================] - 9s 5ms/step - loss: 8.6996 - accuracy: 0.0990 - val_loss: 8.8813 - val_accuracy: 0.0958\n",
      "Epoch 48/100\n",
      "1719/1719 [==============================] - 9s 5ms/step - loss: 8.6996 - accuracy: 0.0990 - val_loss: 8.8813 - val_accuracy: 0.0958\n",
      "Epoch 49/100\n",
      "1719/1719 [==============================] - 9s 5ms/step - loss: 8.6996 - accuracy: 0.0990 - val_loss: 8.8813 - val_accuracy: 0.0958\n",
      "Epoch 50/100\n",
      "1719/1719 [==============================] - 8s 4ms/step - loss: 8.6996 - accuracy: 0.0990 - val_loss: 8.8813 - val_accuracy: 0.0958\n",
      "Epoch 51/100\n",
      "1719/1719 [==============================] - 8s 5ms/step - loss: 8.6996 - accuracy: 0.0990 - val_loss: 8.8813 - val_accuracy: 0.0958\n",
      "Epoch 52/100\n",
      "1719/1719 [==============================] - 8s 5ms/step - loss: 8.6996 - accuracy: 0.0990 - val_loss: 8.8813 - val_accuracy: 0.0958\n",
      "Epoch 53/100\n",
      "1719/1719 [==============================] - 9s 5ms/step - loss: 8.6996 - accuracy: 0.0990 - val_loss: 8.8813 - val_accuracy: 0.0958\n",
      "Epoch 54/100\n",
      "1719/1719 [==============================] - 8s 5ms/step - loss: 8.6996 - accuracy: 0.0990 - val_loss: 8.8813 - val_accuracy: 0.0958\n",
      "Epoch 55/100\n",
      "1719/1719 [==============================] - 8s 5ms/step - loss: 8.6996 - accuracy: 0.0990 - val_loss: 8.8813 - val_accuracy: 0.0958\n",
      "Epoch 56/100\n",
      "1719/1719 [==============================] - 8s 5ms/step - loss: 8.6996 - accuracy: 0.0990 - val_loss: 8.8813 - val_accuracy: 0.0958\n",
      "Epoch 57/100\n"
     ]
    },
    {
     "name": "stdout",
     "output_type": "stream",
     "text": [
      "1719/1719 [==============================] - 7s 4ms/step - loss: 8.6996 - accuracy: 0.0990 - val_loss: 8.8813 - val_accuracy: 0.0958\n",
      "Epoch 58/100\n",
      "1719/1719 [==============================] - 7s 4ms/step - loss: 8.6996 - accuracy: 0.0990 - val_loss: 8.8813 - val_accuracy: 0.0958\n",
      "Epoch 59/100\n",
      "1719/1719 [==============================] - 8s 4ms/step - loss: 8.6996 - accuracy: 0.0990 - val_loss: 8.8813 - val_accuracy: 0.0958\n",
      "Epoch 60/100\n",
      "1719/1719 [==============================] - 8s 5ms/step - loss: 8.6996 - accuracy: 0.0990 - val_loss: 8.8813 - val_accuracy: 0.0958\n",
      "Epoch 61/100\n",
      "1719/1719 [==============================] - 8s 5ms/step - loss: 8.6996 - accuracy: 0.0990 - val_loss: 8.8813 - val_accuracy: 0.0958\n",
      "Epoch 62/100\n",
      "1719/1719 [==============================] - 8s 5ms/step - loss: 8.6996 - accuracy: 0.0990 - val_loss: 8.8813 - val_accuracy: 0.0958\n",
      "Epoch 63/100\n",
      "1719/1719 [==============================] - 8s 5ms/step - loss: 8.6996 - accuracy: 0.0990 - val_loss: 8.8813 - val_accuracy: 0.0958\n",
      "Epoch 64/100\n",
      "1719/1719 [==============================] - 8s 5ms/step - loss: 8.6996 - accuracy: 0.0990 - val_loss: 8.8813 - val_accuracy: 0.0958\n",
      "Epoch 65/100\n",
      "1719/1719 [==============================] - 8s 5ms/step - loss: 8.6996 - accuracy: 0.0990 - val_loss: 8.8813 - val_accuracy: 0.0958\n",
      "Epoch 66/100\n",
      "1719/1719 [==============================] - 8s 4ms/step - loss: 8.6996 - accuracy: 0.0990 - val_loss: 8.8813 - val_accuracy: 0.0958\n",
      "Epoch 67/100\n",
      "1719/1719 [==============================] - 8s 5ms/step - loss: 8.6996 - accuracy: 0.0990 - val_loss: 8.8813 - val_accuracy: 0.0958\n",
      "Epoch 68/100\n",
      "1719/1719 [==============================] - 8s 5ms/step - loss: 8.6996 - accuracy: 0.0990 - val_loss: 8.8813 - val_accuracy: 0.0958\n",
      "Epoch 69/100\n",
      "1719/1719 [==============================] - 9s 5ms/step - loss: 8.6996 - accuracy: 0.0990 - val_loss: 8.8813 - val_accuracy: 0.0958\n",
      "Epoch 70/100\n",
      "1719/1719 [==============================] - 8s 5ms/step - loss: 8.6996 - accuracy: 0.0990 - val_loss: 8.8813 - val_accuracy: 0.0958\n",
      "Epoch 71/100\n",
      "1719/1719 [==============================] - 9s 5ms/step - loss: 8.6996 - accuracy: 0.0990 - val_loss: 8.8813 - val_accuracy: 0.0958\n",
      "Epoch 72/100\n",
      "1719/1719 [==============================] - 9s 5ms/step - loss: 8.6996 - accuracy: 0.0990 - val_loss: 8.8813 - val_accuracy: 0.0958oss: 8.6963 - \n",
      "Epoch 73/100\n",
      "1719/1719 [==============================] - 9s 5ms/step - loss: 8.6996 - accuracy: 0.0990 - val_loss: 8.8813 - val_accuracy: 0.0958\n",
      "Epoch 74/100\n",
      "1719/1719 [==============================] - 9s 5ms/step - loss: 8.6996 - accuracy: 0.0990 - val_loss: 8.8813 - val_accuracy: 0.0958\n",
      "Epoch 75/100\n",
      "1719/1719 [==============================] - 10s 6ms/step - loss: 8.6996 - accuracy: 0.0990 - val_loss: 8.8813 - val_accuracy: 0.0958\n",
      "Epoch 76/100\n",
      "1719/1719 [==============================] - 10s 6ms/step - loss: 8.6996 - accuracy: 0.0990 - val_loss: 8.8813 - val_accuracy: 0.0958\n",
      "Epoch 77/100\n",
      "1719/1719 [==============================] - 9s 5ms/step - loss: 8.6996 - accuracy: 0.0990 - val_loss: 8.8813 - val_accuracy: 0.0958\n",
      "Epoch 78/100\n",
      "1719/1719 [==============================] - 9s 5ms/step - loss: 8.6996 - accuracy: 0.0990 - val_loss: 8.8813 - val_accuracy: 0.0958\n",
      "Epoch 79/100\n",
      "1719/1719 [==============================] - 9s 5ms/step - loss: 8.6996 - accuracy: 0.0990 - val_loss: 8.8813 - val_accuracy: 0.0958\n",
      "Epoch 80/100\n",
      "1719/1719 [==============================] - 10s 6ms/step - loss: 8.6996 - accuracy: 0.0990 - val_loss: 8.8813 - val_accuracy: 0.0958\n",
      "Epoch 81/100\n",
      "1719/1719 [==============================] - 9s 5ms/step - loss: 8.6996 - accuracy: 0.0990 - val_loss: 8.8813 - val_accuracy: 0.0958\n",
      "Epoch 82/100\n",
      "1719/1719 [==============================] - 9s 6ms/step - loss: 8.6996 - accuracy: 0.0990 - val_loss: 8.8813 - val_accuracy: 0.0958\n",
      "Epoch 83/100\n",
      "1719/1719 [==============================] - 10s 6ms/step - loss: 8.6996 - accuracy: 0.0990 - val_loss: 8.8813 - val_accuracy: 0.0958\n",
      "Epoch 84/100\n",
      "1719/1719 [==============================] - 10s 6ms/step - loss: 8.6996 - accuracy: 0.0990 - val_loss: 8.8813 - val_accuracy: 0.0958\n",
      "Epoch 85/100\n",
      "1719/1719 [==============================] - 10s 6ms/step - loss: 8.6996 - accuracy: 0.0990 - val_loss: 8.8813 - val_accuracy: 0.0958\n",
      "Epoch 86/100\n",
      "1719/1719 [==============================] - 10s 6ms/step - loss: 8.6996 - accuracy: 0.0990 - val_loss: 8.8813 - val_accuracy: 0.0958\n",
      "Epoch 87/100\n",
      "1719/1719 [==============================] - 10s 6ms/step - loss: 8.6996 - accuracy: 0.0990 - val_loss: 8.8813 - val_accuracy: 0.0958\n",
      "Epoch 88/100\n",
      "1719/1719 [==============================] - 11s 6ms/step - loss: 8.6996 - accuracy: 0.0990 - val_loss: 8.8813 - val_accuracy: 0.0958\n",
      "Epoch 89/100\n",
      "1719/1719 [==============================] - 12s 7ms/step - loss: 8.6996 - accuracy: 0.0990 - val_loss: 8.8813 - val_accuracy: 0.0958\n",
      "Epoch 90/100\n",
      "1719/1719 [==============================] - 11s 6ms/step - loss: 8.6996 - accuracy: 0.0990 - val_loss: 8.8813 - val_accuracy: 0.0958\n",
      "Epoch 91/100\n",
      "1719/1719 [==============================] - 11s 7ms/step - loss: 8.6996 - accuracy: 0.0990 - val_loss: 8.8813 - val_accuracy: 0.0958\n",
      "Epoch 92/100\n",
      "1719/1719 [==============================] - 12s 7ms/step - loss: 8.6996 - accuracy: 0.0990 - val_loss: 8.8813 - val_accuracy: 0.0958\n",
      "Epoch 93/100\n",
      "1719/1719 [==============================] - 11s 6ms/step - loss: 8.6996 - accuracy: 0.0990 - val_loss: 8.8813 - val_accuracy: 0.0958\n",
      "Epoch 94/100\n",
      "1719/1719 [==============================] - 11s 6ms/step - loss: 8.6996 - accuracy: 0.0990 - val_loss: 8.8813 - val_accuracy: 0.0958\n",
      "Epoch 95/100\n",
      "1719/1719 [==============================] - 12s 7ms/step - loss: 8.6996 - accuracy: 0.0990 - val_loss: 8.8813 - val_accuracy: 0.0958\n",
      "Epoch 96/100\n",
      "1719/1719 [==============================] - 11s 6ms/step - loss: 8.6996 - accuracy: 0.0990 - val_loss: 8.8813 - val_accuracy: 0.0958\n",
      "Epoch 97/100\n",
      "1719/1719 [==============================] - 11s 6ms/step - loss: 8.6996 - accuracy: 0.0990 - val_loss: 8.8813 - val_accuracy: 0.0958\n",
      "Epoch 98/100\n",
      "1719/1719 [==============================] - 11s 7ms/step - loss: 8.6996 - accuracy: 0.0990 - val_loss: 8.8813 - val_accuracy: 0.0958\n",
      "Epoch 99/100\n",
      "1719/1719 [==============================] - 11s 6ms/step - loss: 8.6996 - accuracy: 0.0990 - val_loss: 8.8813 - val_accuracy: 0.0958\n",
      "Epoch 100/100\n",
      "1719/1719 [==============================] - 10s 6ms/step - loss: 8.6996 - accuracy: 0.0990 - val_loss: 8.8813 - val_accuracy: 0.0958\n"
     ]
    }
   ],
   "source": [
    "from numpy.random import seed\n",
    "seed(42)\n",
    "from tensorflow.random import set_seed\n",
    "set_seed(42)\n",
    "\n",
    "#create model and its layers\n",
    "model = keras.models.Sequential()\n",
    "model.add(keras.layers.Flatten(input_shape=[28, 28]))\n",
    "model.add(keras.layers.Dense(600, activation=\"relu\"))\n",
    "model.add(keras.layers.Dense(200, activation=\"relu\"))\n",
    "model.add(keras.layers.Dense(20, activation=\"relu\"))\n",
    "\n",
    "# compile\n",
    "model.compile(loss=\"sparse_categorical_crossentropy\", #Loss function\n",
    "              optimizer=\"sgd\", #Stochastic Gradient Descent\n",
    "             metrics=[\"accuracy\"])\n",
    "\n",
    "# fit model\n",
    "history = model.fit(X_train, y_train, epochs=100, \n",
    "                  validation_data=(X_valid, y_valid))"
   ]
  },
  {
   "cell_type": "markdown",
   "metadata": {},
   "source": [
    "## Question 2: Create a Fashion Classifier\n",
    "[MNIST](https://en.wikipedia.org/wiki/MNIST_database) is known as being \"too easy\" for machine learning models. Classical ML models (e.g. SVMs, Random Forests) are able to score +99% accuracy with less training. Another similar dataset, named Fashion MNIST, is gaining popularity as it's a much harder classification problem while quite similar to MNIST.\n",
    "\n",
    "In this section, you will be creating a classifier for this fashion dataset. This dataset is very similar to MNIST in structure, so there won't be much hand holding in this section. In theory, you can copy/paste everything in the previous section and change very little. I recommend typing everything out (particularly in the Keras section) as it gets you familiar with actually learning Keras."
   ]
  },
  {
   "cell_type": "markdown",
   "metadata": {},
   "source": [
    "#### Note: This link helped me - https://www.tensorflow.org/tutorials/keras/classification\n",
    "- Loss function —This measures how accurate the model is during training. You want to minimize this function to \"steer\" the model in the right direction.\n",
    "- Optimizer —This is how the model is updated based on the data it sees and its loss function.\n",
    "- Metrics —Used to monitor the training and testing steps. The following example uses accuracy, the fraction of the images that are correctly classified."
   ]
  },
  {
   "cell_type": "code",
   "execution_count": 27,
   "metadata": {},
   "outputs": [
    {
     "name": "stdout",
     "output_type": "stream",
     "text": [
      "Train: X=(60000, 28, 28), y=(60000,)\n",
      "Test: X=(10000, 28, 28), y=(10000,)\n"
     ]
    },
    {
     "data": {
      "image/png": "[encoded data removed]",
      "text/plain": [
       "<Figure size 432x288 with 9 Axes>"
      ]
     },
     "metadata": {
      "needs_background": "light"
     },
     "output_type": "display_data"
    }
   ],
   "source": [
    "#Load Data\n",
    "#HINT: You can load Fashion MNIST from Keras the same way you do with MNIST.\n",
    "#You may have to do some digging on the internet in order to do this.\n",
    "#This exercise is to get you familiar with the Keras API\n",
    "\n",
    "from matplotlib import pyplot\n",
    "from keras.datasets import fashion_mnist\n",
    "\n",
    "labels = [\"T-shirt/top\", \"Trouser\", \"Pullover\", \"Dress\", \"Coat\", \"Sandal\", \n",
    "         \"Shirt\", \"Sneaker\", \"Bag\", \"Ankle boot\"]\n",
    "\n",
    "# load dataset\n",
    "(trainX, trainy), (testX, testy) = fashion_mnist.load_data()\n",
    "\n",
    "# summarize loaded dataset\n",
    "print('Train: X=%s, y=%s' % (trainX.shape, trainy.shape))\n",
    "print('Test: X=%s, y=%s' % (testX.shape, testy.shape))\n",
    "# plot first few images\n",
    "for i in range(9):\n",
    "\t# define subplot\n",
    "\tpyplot.subplot(330 + 1 + i)\n",
    "\t# plot raw pixel data\n",
    "\tpyplot.imshow(trainX[i], cmap=pyplot.get_cmap('gray'))\n",
    "# show the figure\n",
    "pyplot.show()"
   ]
  },
  {
   "cell_type": "code",
   "execution_count": 28,
   "metadata": {},
   "outputs": [],
   "source": [
    "#Analyze Data (Optional, up to you on what to discover). Recommend you take \n",
    "#plotImage to see how the data has been pre-processed initially. (In general, \n",
    "#it's always a good idea to know how your data looks like.) You may have to \n",
    "#modify plotImage."
   ]
  },
  {
   "cell_type": "markdown",
   "metadata": {},
   "source": [
    "## Pre-Process Data \n",
    "#### Hint: Very similar to MNIST\n",
    "Seeing shapes of data"
   ]
  },
  {
   "cell_type": "code",
   "execution_count": 29,
   "metadata": {},
   "outputs": [
    {
     "data": {
      "image/png": "[encoded data removed]",
      "text/plain": [
       "<Figure size 432x288 with 2 Axes>"
      ]
     },
     "metadata": {
      "needs_background": "light"
     },
     "output_type": "display_data"
    }
   ],
   "source": [
    "plt.figure()\n",
    "plt.imshow(trainX[0])\n",
    "plt.colorbar()\n",
    "plt.grid(False)\n",
    "plt.show()"
   ]
  },
  {
   "cell_type": "code",
   "execution_count": 30,
   "metadata": {},
   "outputs": [
    {
     "name": "stdout",
     "output_type": "stream",
     "text": [
      "X_train: (60000, 28, 28)\n",
      "y_train: (60000,)\n",
      "X_test: (10000, 28, 28)\n",
      "y_test: (10000,)\n"
     ]
    }
   ],
   "source": [
    "print(\"X_train:\", trainX.shape)\n",
    "print(\"y_train:\", trainy.shape)\n",
    "print(\"X_test:\", testX.shape)\n",
    "print(\"y_test:\", testy.shape)"
   ]
  },
  {
   "cell_type": "code",
   "execution_count": 31,
   "metadata": {},
   "outputs": [],
   "source": [
    "#Scale these values to a range of 0 to 1 before feeding them to the neural network model. \n",
    "#To do so, divide the values by 255. \n",
    "#It's important that the training set and the testing set be preprocessed in the same way\n",
    "\n",
    "trainX = trainX / 255.0\n",
    "trainy = trainy / 255.0"
   ]
  },
  {
   "cell_type": "markdown",
   "metadata": {},
   "source": [
    "## Create model"
   ]
  },
  {
   "cell_type": "code",
   "execution_count": 32,
   "metadata": {},
   "outputs": [
    {
     "name": "stdout",
     "output_type": "stream",
     "text": [
      "Epoch 1/10\n",
      "1875/1875 [==============================] - 7s 4ms/step - loss: 0.0312 - accuracy: 0.0998 - val_loss: 9.5600e-07 - val_accuracy: 0.1000\n",
      "Epoch 2/10\n",
      "1875/1875 [==============================] - 6s 3ms/step - loss: 9.5593e-07 - accuracy: 0.1000 - val_loss: 9.5584e-07 - val_accuracy: 0.1000\n",
      "Epoch 3/10\n",
      "1875/1875 [==============================] - 7s 4ms/step - loss: 9.5576e-07 - accuracy: 0.1000 - val_loss: 9.5566e-07 - val_accuracy: 0.1000\n",
      "Epoch 4/10\n",
      "1875/1875 [==============================] - 7s 4ms/step - loss: 9.5558e-07 - accuracy: 0.1000 - val_loss: 9.5548e-07 - val_accuracy: 0.1000\n",
      "Epoch 5/10\n",
      "1875/1875 [==============================] - 7s 4ms/step - loss: 9.5537e-07 - accuracy: 0.1000 - val_loss: 9.5526e-07 - val_accuracy: 0.1000\n",
      "Epoch 6/10\n",
      "1875/1875 [==============================] - 6s 3ms/step - loss: 9.5507e-07 - accuracy: 0.1000 - val_loss: 9.5488e-07 - val_accuracy: 0.1000\n",
      "Epoch 7/10\n",
      "1875/1875 [==============================] - 7s 3ms/step - loss: 9.5472e-07 - accuracy: 0.1000 - val_loss: 9.5451e-07 - val_accuracy: 0.1000\n",
      "Epoch 8/10\n",
      "1875/1875 [==============================] - 7s 4ms/step - loss: 9.5436e-07 - accuracy: 0.1000 - val_loss: 9.5419e-07 - val_accuracy: 0.1000\n",
      "Epoch 9/10\n",
      "1875/1875 [==============================] - 7s 4ms/step - loss: 9.5410e-07 - accuracy: 0.1000 - val_loss: 9.5399e-07 - val_accuracy: 0.1000\n",
      "Epoch 10/10\n",
      "1875/1875 [==============================] - 6s 3ms/step - loss: 9.5391e-07 - accuracy: 0.1000 - val_loss: 9.5385e-07 - val_accuracy: 0.1000 loss: 9.5391e-07 - accuracy: 0.10\n"
     ]
    }
   ],
   "source": [
    "from numpy.random import seed\n",
    "seed(42)\n",
    "from tensorflow.random import set_seed\n",
    "set_seed(42)\n",
    "\n",
    "#create model and its layers\n",
    "model = keras.models.Sequential()\n",
    "model.add(keras.layers.Flatten(input_shape=[28, 28]))\n",
    "model.add(keras.layers.Dense(128, activation=\"relu\"))\n",
    "model.add(keras.layers.Dense(10))\n",
    "\n",
    "# compile\n",
    "model.compile(loss=\"sparse_categorical_crossentropy\", #Loss function\n",
    "              optimizer=\"adam\",\n",
    "             metrics=[\"accuracy\"])\n",
    "\n",
    "# fit model\n",
    "history = model.fit(trainX, trainy, epochs=10, \n",
    "                  validation_data=(trainX, trainy))"
   ]
  },
  {
   "cell_type": "code",
   "execution_count": null,
   "metadata": {},
   "outputs": [],
   "source": []
  },
  {
   "cell_type": "code",
   "execution_count": null,
   "metadata": {},
   "outputs": [],
   "source": [
    "#Plots (Optional)"
   ]
  },
  {
   "cell_type": "code",
   "execution_count": null,
   "metadata": {},
   "outputs": [],
   "source": [
    "# model with double the filters for the fashion mnist dataset\n",
    "from numpy import mean\n",
    "from numpy import std\n",
    "from matplotlib import pyplot\n",
    "from sklearn.model_selection import KFold\n",
    "from keras.datasets import fashion_mnist\n",
    "from keras.utils import to_categorical\n",
    "from keras.models import Sequential\n",
    "from keras.layers import Conv2D\n",
    "from keras.layers import MaxPooling2D\n",
    "from keras.layers import Dense\n",
    "from keras.layers import Flatten\n",
    "from keras.optimizers import SGD\n",
    "\n",
    "# load train and test dataset\n",
    "def load_dataset():\n",
    "\t# load dataset\n",
    "\t(trainX, trainY), (testX, testY) = fashion_mnist.load_data()\n",
    "\t# reshape dataset to have a single channel\n",
    "\ttrainX = trainX.reshape((trainX.shape[0], 28, 28, 1))\n",
    "\ttestX = testX.reshape((testX.shape[0], 28, 28, 1))\n",
    "\t# one hot encode target values\n",
    "\ttrainY = to_categorical(trainY)\n",
    "\ttestY = to_categorical(testY)\n",
    "\treturn trainX, trainY, testX, testY\n",
    " \n",
    "# scale pixels\n",
    "def prep_pixels(train, test):\n",
    "\t# convert from integers to floats\n",
    "\ttrain_norm = train.astype('float32')\n",
    "\ttest_norm = test.astype('float32')\n",
    "\t# normalize to range 0-1\n",
    "\ttrain_norm = train_norm / 255.0\n",
    "\ttest_norm = test_norm / 255.0\n",
    "\t# return normalized images\n",
    "\treturn train_norm, test_norm\n",
    " \n",
    "# define cnn model\n",
    "def define_model():\n",
    "\tmodel = Sequential()\n",
    "\tmodel.add(Conv2D(64, (3, 3), padding='same', activation='relu', kernel_initializer='he_uniform', input_shape=(28, 28, 1)))\n",
    "\tmodel.add(MaxPooling2D((2, 2)))\n",
    "\tmodel.add(Flatten())\n",
    "\tmodel.add(Dense(100, activation='relu', kernel_initializer='he_uniform'))\n",
    "\tmodel.add(Dense(10, activation='softmax'))\n",
    "\t# compile model\n",
    "\topt = SGD(lr=0.01, momentum=0.9)\n",
    "\tmodel.compile(optimizer=opt, loss='categorical_crossentropy', metrics=['accuracy'])\n",
    "\treturn model\n",
    " \n",
    "# evaluate a model using k-fold cross-validation\n",
    "def evaluate_model(dataX, dataY, n_folds=5):\n",
    "\tscores, histories = list(), list()\n",
    "\t# prepare cross validation\n",
    "\tkfold = KFold(n_folds, shuffle=True, random_state=1)\n",
    "\t# enumerate splits\n",
    "\tfor train_ix, test_ix in kfold.split(dataX):\n",
    "\t\t# define model\n",
    "\t\tmodel = define_model()\n",
    "\t\t# select rows for train and test\n",
    "\t\ttrainX, trainY, testX, testY = dataX[train_ix], dataY[train_ix], dataX[test_ix], dataY[test_ix]\n",
    "\t\t# fit model\n",
    "\t\thistory = model.fit(trainX, trainY, epochs=10, batch_size=32, validation_data=(testX, testY), verbose=0)\n",
    "\t\t# evaluate model\n",
    "\t\t_, acc = model.evaluate(testX, testY, verbose=0)\n",
    "\t\tprint('> %.3f' % (acc * 100.0))\n",
    "\t\t# append scores\n",
    "\t\tscores.append(acc)\n",
    "\t\thistories.append(history)\n",
    "\treturn scores, histories\n",
    " \n",
    "# plot diagnostic learning curves\n",
    "def summarize_diagnostics(histories):\n",
    "\tfor i in range(len(histories)):\n",
    "\t\t# plot loss\n",
    "\t\tpyplot.subplot(211)\n",
    "\t\tpyplot.title('Cross Entropy Loss')\n",
    "\t\tpyplot.plot(histories[i].history['loss'], color='blue', label='train')\n",
    "\t\tpyplot.plot(histories[i].history['val_loss'], color='orange', label='test')\n",
    "\t\t# plot accuracy\n",
    "\t\tpyplot.subplot(212)\n",
    "\t\tpyplot.title('Classification Accuracy')\n",
    "\t\tpyplot.plot(histories[i].history['accuracy'], color='blue', label='train')\n",
    "\t\tpyplot.plot(histories[i].history['val_accuracy'], color='orange', label='test')\n",
    "\tpyplot.show()\n",
    " \n",
    "# summarize model performance\n",
    "def summarize_performance(scores):\n",
    "\t# print summary\n",
    "\tprint('Accuracy: mean=%.3f std=%.3f, n=%d' % (mean(scores)*100, std(scores)*100, len(scores)))\n",
    "\t# box and whisker plots of results\n",
    "\tpyplot.boxplot(scores)\n",
    "\tpyplot.show()\n",
    " \n",
    "# run the test harness for evaluating a model\n",
    "def run_test_harness():\n",
    "\t# load dataset\n",
    "\ttrainX, trainY, testX, testY = load_dataset()\n",
    "\t# prepare pixel data\n",
    "\ttrainX, testX = prep_pixels(trainX, testX)\n",
    "\t# evaluate model\n",
    "\tscores, histories = evaluate_model(trainX, trainY)\n",
    "\t# learning curves\n",
    "\tsummarize_diagnostics(histories)\n",
    "\t# summarize estimated performance\n",
    "\tsummarize_performance(scores)\n",
    " \n",
    "# entry point, run the test harness\n",
    "run_test_harness()"
   ]
  },
  {
   "cell_type": "code",
   "execution_count": null,
   "metadata": {},
   "outputs": [],
   "source": [
    "# model with padded convolutions for the fashion mnist dataset\n",
    "from numpy import mean\n",
    "from numpy import std\n",
    "from matplotlib import pyplot\n",
    "from sklearn.model_selection import KFold\n",
    "from keras.datasets import fashion_mnist\n",
    "from keras.utils import to_categorical\n",
    "from keras.models import Sequential\n",
    "from keras.layers import Conv2D\n",
    "from keras.layers import MaxPooling2D\n",
    "from keras.layers import Dense\n",
    "from keras.layers import Flatten\n",
    "from keras.optimizers import SGD\n",
    " \n",
    "# load train and test dataset\n",
    "def load_dataset():\n",
    "\t# load dataset\n",
    "\t(trainX, trainY), (testX, testY) = fashion_mnist.load_data()\n",
    "\t# reshape dataset to have a single channel\n",
    "\ttrainX = trainX.reshape((trainX.shape[0], 28, 28, 1))\n",
    "\ttestX = testX.reshape((testX.shape[0], 28, 28, 1))\n",
    "\t# one hot encode target values\n",
    "\ttrainY = to_categorical(trainY)\n",
    "\ttestY = to_categorical(testY)\n",
    "\treturn trainX, trainY, testX, testY\n",
    " \n",
    "# scale pixels\n",
    "def prep_pixels(train, test):\n",
    "\t# convert from integers to floats\n",
    "\ttrain_norm = train.astype('float32')\n",
    "\ttest_norm = test.astype('float32')\n",
    "\t# normalize to range 0-1\n",
    "\ttrain_norm = train_norm / 255.0\n",
    "\ttest_norm = test_norm / 255.0\n",
    "\t# return normalized images\n",
    "\treturn train_norm, test_norm\n",
    " \n",
    "# define cnn model\n",
    "def define_model():\n",
    "\tmodel = Sequential()\n",
    "\tmodel.add(Conv2D(32, (3, 3), padding='same', activation='relu', kernel_initializer='he_uniform', input_shape=(28, 28, 1)))\n",
    "\tmodel.add(MaxPooling2D((2, 2)))\n",
    "\tmodel.add(Flatten())\n",
    "\tmodel.add(Dense(100, activation='relu', kernel_initializer='he_uniform'))\n",
    "\tmodel.add(Dense(10, activation='softmax'))\n",
    "\t# compile model\n",
    "\topt = SGD(lr=0.01, momentum=0.9)\n",
    "\tmodel.compile(optimizer=opt, loss='categorical_crossentropy', metrics=['accuracy'])\n",
    "\treturn model\n",
    " \n",
    "# evaluate a model using k-fold cross-validation\n",
    "def evaluate_model(dataX, dataY, n_folds=5):\n",
    "\tscores, histories = list(), list()\n",
    "\t# prepare cross validation\n",
    "\tkfold = KFold(n_folds, shuffle=True, random_state=1)\n",
    "\t# enumerate splits\n",
    "\tfor train_ix, test_ix in kfold.split(dataX):\n",
    "\t\t# define model\n",
    "\t\tmodel = define_model()\n",
    "\t\t# select rows for train and test\n",
    "\t\ttrainX, trainY, testX, testY = dataX[train_ix], dataY[train_ix], dataX[test_ix], dataY[test_ix]\n",
    "\t\t# fit model\n",
    "\t\thistory = model.fit(trainX, trainY, epochs=10, batch_size=32, validation_data=(testX, testY), verbose=0)\n",
    "\t\t# evaluate model\n",
    "\t\t_, acc = model.evaluate(testX, testY, verbose=0)\n",
    "\t\tprint('> %.3f' % (acc * 100.0))\n",
    "\t\t# append scores\n",
    "\t\tscores.append(acc)\n",
    "\t\thistories.append(history)\n",
    "\treturn scores, histories\n",
    " \n",
    "# plot diagnostic learning curves\n",
    "def summarize_diagnostics(histories):\n",
    "\tfor i in range(len(histories)):\n",
    "\t\t# plot loss\n",
    "\t\tpyplot.subplot(211)\n",
    "\t\tpyplot.title('Cross Entropy Loss')\n",
    "\t\tpyplot.plot(histories[i].history['loss'], color='blue', label='train')\n",
    "\t\tpyplot.plot(histories[i].history['val_loss'], color='orange', label='test')\n",
    "\t\t# plot accuracy\n",
    "\t\tpyplot.subplot(212)\n",
    "\t\tpyplot.title('Classification Accuracy')\n",
    "\t\tpyplot.plot(histories[i].history['accuracy'], color='blue', label='train')\n",
    "\t\tpyplot.plot(histories[i].history['val_accuracy'], color='orange', label='test')\n",
    "\tpyplot.show()\n",
    " \n",
    "# summarize model performance\n",
    "def summarize_performance(scores):\n",
    "\t# print summary\n",
    "\tprint('Accuracy: mean=%.3f std=%.3f, n=%d' % (mean(scores)*100, std(scores)*100, len(scores)))\n",
    "\t# box and whisker plots of results\n",
    "\tpyplot.boxplot(scores)\n",
    "\tpyplot.show()\n",
    " \n",
    "# run the test harness for evaluating a model\n",
    "def run_test_harness():\n",
    "\t# load dataset\n",
    "\ttrainX, trainY, testX, testY = load_dataset()\n",
    "\t# prepare pixel data\n",
    "\ttrainX, testX = prep_pixels(trainX, testX)\n",
    "\t# evaluate model\n",
    "\tscores, histories = evaluate_model(trainX, trainY)\n",
    "\t# learning curves\n",
    "\tsummarize_diagnostics(histories)\n",
    "\t# summarize estimated performance\n",
    "\tsummarize_performance(scores)\n",
    " \n",
    "# entry point, run the test harness\n",
    "run_test_harness()"
   ]
  },
  {
   "cell_type": "code",
   "execution_count": null,
   "metadata": {},
   "outputs": [],
   "source": [
    "run_test_harness()"
   ]
  },
  {
   "cell_type": "markdown",
   "metadata": {},
   "source": [
    "Try to get above 93% accuracy using hyperparameters.\n",
    "\n",
    "What label is the most mislabeled (contains the most error) in this model? Hint: use a confusion matrix. Does it make sense? Plot several datapoints using plotImage to find out."
   ]
  },
  {
   "cell_type": "markdown",
   "metadata": {},
   "source": [
    "## Question 3: Bonus - EMNIST\n",
    "EMNIST is an expansion of MNIST on [Kaggle](https://www.kaggle.com/crawford/emnist). If you feel you still need some practice, feel free to check it out. Others have made notebooks on Kaggle with other fancy techniques. Explore if you have time!"
   ]
  },
  {
   "cell_type": "code",
   "execution_count": null,
   "metadata": {},
   "outputs": [],
   "source": []
  }
 ],
 "metadata": {
  "kernelspec": {
   "display_name": "Python 3",
   "language": "python",
   "name": "python3"
  },
  "language_info": {
   "codemirror_mode": {
    "name": "ipython",
    "version": 3
   },
   "file_extension": ".py",
   "mimetype": "text/x-python",
   "name": "python",
   "nbconvert_exporter": "python",
   "pygments_lexer": "ipython3",
   "version": "3.8.6"
  }
 },
 "nbformat": 4,
 "nbformat_minor": 4
}
